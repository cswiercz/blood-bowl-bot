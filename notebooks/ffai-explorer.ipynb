{
 "cells": [
  {
   "cell_type": "code",
   "execution_count": null,
   "metadata": {},
   "outputs": [],
   "source": [
    "%matplotlib inline\n",
    "\n",
    "import ffai.ai\n",
    "import gym\n",
    "import matplotlib.pyplot as plt\n",
    "import numpy as np\n",
    "\n",
    "from ffai.ai.env import FFAIEnv\n",
    "\n",
    "plt.rcParams['figure.dpi'] = 90\n",
    "plt.rcParams['font.family'] = \"Cochin\"\n",
    "plt.rcParams['font.size'] = 12\n",
    "\n",
    "\n",
    "seed = 1024\n",
    "np.random.seed(seed)\n",
    "random_state = np.random.RandomState(seed)\n",
    "    \n",
    "def ffai_random_action_to_setup(environment, seed=None):\n",
    "#    environment.seed(seed)\n",
    "    observation = environment.reset()\n",
    "    print(f'{environment.get_seed()} =?= {seed}')\n",
    "\n",
    "    reward = 0\n",
    "    is_terminal = 0\n",
    "    in_setup = lambda procedure: procedure[0:7].sum() > 0\n",
    "    procedure = observation['procedure']\n",
    "\n",
    "    while in_setup(procedure):\n",
    "        random_action = get_random_action(environment, random_state)\n",
    "        observation, reward, is_terminal, _ = environment.step(random_action)\n",
    "        procedure = observation['procedure']\n",
    "\n",
    "    return observation, reward, is_terminal, None\n",
    "\n",
    "\n",
    "def get_random_action(envrironment, random_state):\n",
    "    action_type = random_state.choice(environment.available_action_types())\n",
    "    positions = envrironment.available_positions(action_type)\n",
    "    action_position = random_state.choice(positions) if len(positions) > 0 else None\n",
    "\n",
    "    random_action = {\n",
    "        'action-type': action_type,\n",
    "        'x': action_position.x if action_position is not None else None,\n",
    "        'y': action_position.y if action_position is not None else None,\n",
    "    }\n",
    "    return random_action\n",
    "\n",
    "\n",
    "environment = gym.make('FFAI-v1')\n",
    "observation, reward, is_terminal, _ = ffai_random_action_to_setup(environment, seed=seed)"
   ]
  },
  {
   "cell_type": "markdown",
   "metadata": {},
   "source": [
    "# Exploring the State Space"
   ]
  },
  {
   "cell_type": "code",
   "execution_count": null,
   "metadata": {},
   "outputs": [],
   "source": [
    "nrows, ncols = 7, 4\n",
    "\n",
    "fig, axs = plt.subplots(nrows, ncols)\n",
    "features = iter(observation['board'].items())\n",
    "\n",
    "for i in range(nrows):\n",
    "    for j in range(ncols):\n",
    "        feature_name, feature = next(features)\n",
    "        \n",
    "        axs[i,j].matshow(feature, cmap='Blues')\n",
    "        axs[i,j].set_xticks([])\n",
    "        axs[i,j].set_yticks([])\n",
    "        axs[i,j].set_title(feature_name)\n",
    "        \n",
    "fig.set_figwidth(8)\n",
    "fig.set_figheight(9.8)\n",
    "fig.tight_layout()\n",
    "fig.savefig('/Users/cswiercz/Desktop/lrl/features.png', transparent=True)"
   ]
  },
  {
   "cell_type": "code",
   "execution_count": null,
   "metadata": {},
   "outputs": [],
   "source": [
    "def plot_board(observation, show_grid=True):\n",
    "\n",
    "    fig, ax = plt.subplots(1, 1)\n",
    "\n",
    "    active_players = observation['board']['active players']\n",
    "    own_players = observation['board']['own players']\n",
    "    opp_players = observation['board']['opp players']\n",
    "    standing_players = observation['board']['standing players']\n",
    "    roll_probabilities = observation['board']['roll probabilities']\n",
    "    \n",
    "    downed_players = own_players + opp_players - standing_players\n",
    "    players = (own_players + 0.5*opp_players) - 0.3*downed_players\n",
    "\n",
    "    mat = roll_probabilities - players\n",
    "    ax.matshow(mat, cmap='RdBu', vmin=-1, vmax=1)\n",
    "\n",
    "    nrows, ncols = active_players.shape\n",
    "    ax.set_xticklabels(np.arange(ncols))\n",
    "    ax.set_yticklabels(np.arange(nrows))\n",
    "    \n",
    "    if show_grid:\n",
    "        ax.set_xticks(np.arange(ncols) + 0.5)\n",
    "        ax.set_yticks(np.arange(nrows) + 0.5)\n",
    "        ax.set_xticklabels(np.arange(ncols), fontdict={'horizontalalignment': 'right'})\n",
    "        ax.set_yticklabels(np.arange(nrows), fontdict={'verticalalignment': 'bottom'})\n",
    "    else:\n",
    "        ax.set_xticks([])\n",
    "        ax.set_yticks([])\n",
    "\n",
    "    ax.grid(alpha=0.4)\n",
    "    fig.tight_layout()\n",
    "    fig.set_figwidth(9)\n",
    "    ax.set_aspect(1.0)\n",
    "    return fig\n",
    "\n",
    "fig = plot_board(observation)"
   ]
  },
  {
   "cell_type": "code",
   "execution_count": null,
   "metadata": {},
   "outputs": [],
   "source": [
    "def show_procedure(environment):\n",
    "    procedure_index = np.where(observation['procedure'] == 1)[0][0]\n",
    "    procedure_list = [\n",
    "        'StartGame', 'CoinTossFlip', 'CoinTossKickReceive', 'Setup', 'PlaceBall', 'HighKick',\n",
    "        'Touchback', 'Turn', 'PlayerAction', 'Block', 'Push', 'FollowUp', 'Apothecary',\n",
    "        'PassAction', 'Catch', 'Interception', 'GFI', 'Dodge', 'Pickup']\n",
    "    procedure = procedure_list[procedure_index]\n",
    "    \n",
    "    print(f'\\nCurrent procedure: {procedure} (index = {procedure_index})')\n",
    "\n",
    "show_procedure(environment)\n",
    "observation['state']"
   ]
  },
  {
   "cell_type": "markdown",
   "metadata": {},
   "source": [
    "# Exploring the Action Space"
   ]
  },
  {
   "cell_type": "code",
   "execution_count": null,
   "metadata": {},
   "outputs": [],
   "source": [
    "from ffai.core.table import ActionType\n",
    "from operator import itemgetter \n",
    "\n",
    "\n",
    "def show_available_actions(environment):\n",
    "    action_types = list(environment.available_action_types())\n",
    "    if len(action_types) > 1:\n",
    "        actions = itemgetter(*action_types)(environment.actions)\n",
    "    else:\n",
    "        actions = [environment.actions[action_types[0]]]\n",
    "    \n",
    "    for i, action_type in enumerate(action_types):\n",
    "        print(f'{actions[i]} (id = {action_type})')\n",
    "        \n",
    "        available_positions = environment.available_positions(action_type)\n",
    "        for position in available_positions:\n",
    "            print(f'\\t{position.__dict__}')\n",
    "    \n",
    "    return action_types\n",
    "\n",
    "def show_procedure(environment):\n",
    "    procedure_index = np.where(observation['procedure'] == 1)[0][0]\n",
    "    procedure_list = [\n",
    "        'StartGame', 'CoinTossFlip', 'CoinTossKickReceive', 'Setup', 'PlaceBall', 'HighKick',\n",
    "        'Touchback', 'Turn', 'PlayerAction', 'Block', 'Push', 'FollowUp', 'Apothecary',\n",
    "        'PassAction', 'Catch', 'Interception', 'GFI', 'Dodge', 'Pickup']\n",
    "    procedure = procedure_list[procedure_index]\n",
    "    \n",
    "    print(f'\\nCurrent procedure: {procedure} (index = {procedure_index})')\n",
    "\n",
    "\n",
    "fig = plot_board(observation)\n",
    "fig.savefig('/Users/cswiercz/Desktop/lrl/example_simulation_1.png', transparent=True)\n",
    "\n",
    "show_available_actions(environment)\n",
    "show_procedure(environment)"
   ]
  },
  {
   "cell_type": "code",
   "execution_count": null,
   "metadata": {},
   "outputs": [],
   "source": [
    "action = {\n",
    "    'action-type': 27, # START_MOVE\n",
    "    'x': 14,\n",
    "    'y': 11,\n",
    "}\n",
    "observation, reward, is_terminal, _ = environment.step(action)\n",
    "fig = plot_board(observation)\n",
    "\n",
    "show_available_actions(environment)\n",
    "show_procedure(environment)\n",
    "\n",
    "fig.savefig('/Users/cswiercz/Desktop/lrl/roll_probabilities.png', transparent=True)\n",
    "fig.savefig('/Users/cswiercz/Desktop/lrl/example_simulation_2.png', transparent=True)"
   ]
  },
  {
   "cell_type": "code",
   "execution_count": null,
   "metadata": {},
   "outputs": [],
   "source": [
    "action = {\n",
    "    'action-type': 22,  # MOVE\n",
    "    'x': 13,\n",
    "    'y': 12,\n",
    "}\n",
    "observation, reward, is_terminal, _ = environment.step(action)\n",
    "fig = plot_board(observation)\n",
    "fig.savefig('/Users/cswiercz/Desktop/lrl/example_simulation_3.png', transparent=True)\n",
    "\n",
    "show_available_actions(environment)\n",
    "show_procedure(environment)"
   ]
  },
  {
   "cell_type": "code",
   "execution_count": null,
   "metadata": {},
   "outputs": [],
   "source": [
    "#plt.matshow(observation['board']['standing players'], cmap='binary')\n",
    "action = {\n",
    "    'action-type': 6, # USE_REROLL\n",
    "    'x': -1,\n",
    "    'y': -1,\n",
    "}\n",
    "observation, reward, is_terminal, _ = environment.step(action)\n",
    "fig = plot_board(observation)\n",
    "fig.savefig('/Users/cswiercz/Desktop/lrl/example_simulation_4.png', transparent=True)\n",
    "\n",
    "show_available_actions(environment)\n",
    "show_procedure(environment)"
   ]
  },
  {
   "cell_type": "code",
   "execution_count": null,
   "metadata": {},
   "outputs": [],
   "source": [
    "action = {\n",
    "    'action-type': 28, # START_BLOCK\n",
    "    'x': 14,\n",
    "    'y': 5,\n",
    "}\n",
    "observation, reward, is_terminal, _ = environment.step(action)\n",
    "fig = plot_board(observation)\n",
    "fig.savefig('/Users/cswiercz/Desktop/lrl/example_simulation_5.png', transparent=True)\n",
    "\n",
    "show_available_actions(environment)\n",
    "show_procedure(environment)"
   ]
  },
  {
   "cell_type": "code",
   "execution_count": null,
   "metadata": {},
   "outputs": [],
   "source": [
    "action = {\n",
    "    'action-type': 23, # BLOCK\n",
    "    'x': 13,\n",
    "    'y': 6,\n",
    "}\n",
    "observation, reward, is_terminal, _ = environment.step(action)\n",
    "fig = plot_board(observation)\n",
    "\n",
    "show_available_actions(environment)\n",
    "show_procedure(environment)"
   ]
  },
  {
   "cell_type": "code",
   "execution_count": null,
   "metadata": {},
   "outputs": [],
   "source": [
    "action = {\n",
    "    'action-type': 13, # SELECT_DEFENDER_STUMBLES\n",
    "    'x': -1,\n",
    "    'y': -1,\n",
    "}\n",
    "observation, reward, is_terminal, _ = environment.step(action)\n",
    "fig = plot_board(observation)\n",
    "\n",
    "show_available_actions(environment)\n",
    "show_procedure(environment)"
   ]
  },
  {
   "cell_type": "code",
   "execution_count": null,
   "metadata": {},
   "outputs": [],
   "source": [
    "action = {\n",
    "    'action-type': 18, # PUSH\n",
    "    'x': 12,\n",
    "    'y': 6,\n",
    "}\n",
    "observation, reward, is_terminal, _ = environment.step(action)\n",
    "fig = plot_board(observation)\n",
    "fig.savefig('/Users/cswiercz/Desktop/lrl/example_simulation_6.png', transparent=True)\n",
    "\n",
    "show_available_actions(environment)\n",
    "show_procedure(environment)"
   ]
  },
  {
   "cell_type": "code",
   "execution_count": null,
   "metadata": {},
   "outputs": [],
   "source": [
    "action = {\n",
    "    'action-type': 19, # FOLLOW_UP\n",
    "    'x': 13,\n",
    "    'y': 6,\n",
    "}\n",
    "observation, reward, is_terminal, _ = environment.step(action)\n",
    "fig = plot_board(observation)\n",
    "fig.savefig('/Users/cswiercz/Desktop/lrl/example_simulation_7.png', transparent=True)\n",
    "\n",
    "show_available_actions(environment)\n",
    "show_procedure(environment)"
   ]
  },
  {
   "cell_type": "code",
   "execution_count": null,
   "metadata": {},
   "outputs": [],
   "source": []
  },
  {
   "cell_type": "code",
   "execution_count": null,
   "metadata": {},
   "outputs": [],
   "source": []
  },
  {
   "cell_type": "code",
   "execution_count": null,
   "metadata": {},
   "outputs": [],
   "source": []
  },
  {
   "cell_type": "code",
   "execution_count": null,
   "metadata": {},
   "outputs": [],
   "source": []
  },
  {
   "cell_type": "code",
   "execution_count": null,
   "metadata": {},
   "outputs": [],
   "source": []
  },
  {
   "cell_type": "code",
   "execution_count": null,
   "metadata": {},
   "outputs": [],
   "source": []
  }
 ],
 "metadata": {
  "kernelspec": {
   "display_name": "Python 3",
   "language": "python",
   "name": "python3"
  },
  "language_info": {
   "codemirror_mode": {
    "name": "ipython",
    "version": 3
   },
   "file_extension": ".py",
   "mimetype": "text/x-python",
   "name": "python",
   "nbconvert_exporter": "python",
   "pygments_lexer": "ipython3",
   "version": "3.7.3"
  }
 },
 "nbformat": 4,
 "nbformat_minor": 2
}
