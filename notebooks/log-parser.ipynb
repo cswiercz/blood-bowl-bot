{
 "cells": [
  {
   "cell_type": "code",
   "execution_count": null,
   "metadata": {},
   "outputs": [],
   "source": [
    "%matplotlib inline\n",
    "\n",
    "import re\n",
    "\n",
    "import numpy as np\n",
    "import matplotlib.pyplot as plt\n",
    "\n",
    "plt.rcParams['figure.dpi'] = 100\n",
    "plt.rcParams['figure.figsize'] = (10, 6)"
   ]
  },
  {
   "cell_type": "code",
   "execution_count": null,
   "metadata": {},
   "outputs": [],
   "source": [
    "def get_rewards_and_qvalues(logfile):\n",
    "    with open(logfile, 'r') as f:\n",
    "        contents = f.read()\n",
    "        \n",
    "    rewards = re.findall(r'mean_reward:(.*?),', contents)\n",
    "    qvalues = re.findall(r'mean_qvalue:(.*?),', contents)\n",
    "    rewards = np.array(rewards, dtype='float32')\n",
    "    qvalues = np.array(qvalues, dtype='float32')\n",
    "    return rewards, qvalues\n",
    "\n",
    "\n",
    "def get_results(logfiles):\n",
    "    all_rewards = []\n",
    "    all_qvalues = []\n",
    "    for logfile in logfiles:\n",
    "        rewards, qvalues = get_rewards_and_qvalues(logfile)\n",
    "        all_rewards.append(rewards)\n",
    "        all_qvalues.append(qvalues)\n",
    "\n",
    "    # because all simulations run for the same number of episodes but\n",
    "    # potentially different number of epochs we need to truncate down to the\n",
    "    # fewest number of epochs\n",
    "    min_length = min(map(len, all_rewards))\n",
    "    for i in range(len(all_rewards)):\n",
    "        all_rewards[i] = all_rewards[i][:min_length]\n",
    "    min_length = min(map(len, all_qvalues))\n",
    "    for i in range(len(all_qvalues)):\n",
    "        all_qvalues[i] = all_qvalues[i][:min_length]\n",
    "\n",
    "    all_rewards = np.array(all_rewards)\n",
    "    all_qvalues = np.array(all_qvalues)\n",
    "    return all_rewards, all_qvalues\n",
    "\n",
    "\n",
    "def plot_experiment_data(all_data, ax=None, **kwds):\n",
    "    min_data = np.quantile(all_data, 0.1, axis=0)\n",
    "    max_data = np.quantile(all_data, 0.9, axis=0)\n",
    "    med_data = np.median(all_data, axis=0)\n",
    "    episodes = np.arange(1, len(med_data) + 1)\n",
    "    \n",
    "    if ax is None:\n",
    "        fig, ax = plt.subplots(1, 1)\n",
    "        ax.hold(True)\n",
    "\n",
    "    ax.plot(episodes, med_data, **kwds)\n",
    "    kwds.pop('label')\n",
    "    ax.fill_between(episodes, min_data, max_data, alpha=0.2, **kwds)\n",
    "    return ax\n"
   ]
  },
  {
   "cell_type": "code",
   "execution_count": null,
   "metadata": {},
   "outputs": [],
   "source": [
    "DIR = '../'\n",
    "\n",
    "dqn_logfiles = [DIR + f'logs/cart-pole-dqn-{i}.log' for i in range(6)]\n",
    "ddqn_logfiles = [DIR + f'logs/cart-pole-ddqn-{i}.log' for i in range(6)]\n",
    "dueling_dqn_logfiles = [DIR + f'logs/cart-pole-dueling-dqn-{i}.log' for i in range(6)]\n",
    "\n",
    "dqn_all_rewards, dqn_all_qvalues = get_results(dqn_logfiles)\n",
    "ddqn_all_rewards, ddqn_all_qvalues = get_results(ddqn_logfiles)\n",
    "dueling_dqn_all_rewards, dueling_dqn_all_qvalues = get_results(dueling_dqn_logfiles)"
   ]
  },
  {
   "cell_type": "code",
   "execution_count": null,
   "metadata": {},
   "outputs": [],
   "source": [
    "fig, ax_rewards = plt.subplots(1, 1)\n",
    "\n",
    "_ = plot_experiment_data(dqn_all_rewards, ax=ax_rewards, color='C0', label='DQN')\n",
    "_ = plot_experiment_data(ddqn_all_rewards, ax=ax_rewards, color='C1', label='DDQN')\n",
    "_ = plot_experiment_data(dueling_dqn_all_rewards, ax=ax_rewards, color='C2', label='Dueling DQN')\n",
    "\n",
    "\n",
    "ax_rewards.set_yscale('log')\n",
    "ax_rewards.set_ylim(0.97, 1.0)\n",
    "ax_rewards.legend()\n",
    "ax_rewards.set_title('Cart-Pole')\n",
    "ax_rewards.set_xlabel('Epoch (1k Updates)')\n",
    "ax_rewards.set_ylabel('Reward')\n",
    "ax_rewards.set_xlim((0,100))\n",
    "\n",
    "fig.savefig('cart-pole-rewards.png', transparent=True)"
   ]
  },
  {
   "cell_type": "code",
   "execution_count": null,
   "metadata": {},
   "outputs": [],
   "source": [
    "fig, ax_qvalues = plt.subplots(1, 1)\n",
    "\n",
    "_ = plot_experiment_data(dqn_all_qvalues, ax=ax_qvalues, color='C0', label='DQN')\n",
    "_ = plot_experiment_data(ddqn_all_qvalues, ax=ax_qvalues, color='C1', label='DDQN')\n",
    "_ = plot_experiment_data(dueling_dqn_all_qvalues, ax=ax_qvalues, color='C2', label='Dueling DQN')\n",
    "\n",
    "\n",
    "ax_qvalues.set_yscale('log')\n",
    "ax_qvalues.legend()\n",
    "ax_qvalues.set_title('Cart-Pole')\n",
    "ax_qvalues.set_xlabel('Epoch (1k Updates)')\n",
    "ax_qvalues.set_ylabel('Avg. Action-Value')\n",
    "\n",
    "ax_qvalues.set_xlim((0,100))\n",
    "\n",
    "fig.savefig('cart-pole-qvalues.png', transparent=True)"
   ]
  },
  {
   "cell_type": "code",
   "execution_count": null,
   "metadata": {},
   "outputs": [],
   "source": []
  },
  {
   "cell_type": "code",
   "execution_count": null,
   "metadata": {},
   "outputs": [],
   "source": []
  }
 ],
 "metadata": {
  "kernelspec": {
   "display_name": "Python 3",
   "language": "python",
   "name": "python3"
  },
  "language_info": {
   "codemirror_mode": {
    "name": "ipython",
    "version": 3
   },
   "file_extension": ".py",
   "mimetype": "text/x-python",
   "name": "python",
   "nbconvert_exporter": "python",
   "pygments_lexer": "ipython3",
   "version": "3.7.3"
  }
 },
 "nbformat": 4,
 "nbformat_minor": 2
}
